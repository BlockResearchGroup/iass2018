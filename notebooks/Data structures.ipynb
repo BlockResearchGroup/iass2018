{
 "cells": [
  {
   "cell_type": "code",
   "execution_count": 6,
   "metadata": {
    "collapsed": true
   },
   "outputs": [],
   "source": [
    "import compas"
   ]
  },
  {
   "cell_type": "code",
   "execution_count": 7,
   "metadata": {},
   "outputs": [],
   "source": [
    "from compas.datastructures import Network\n",
    "from compas.plotters import NetworkPlotter"
   ]
  },
  {
   "cell_type": "code",
   "execution_count": 8,
   "metadata": {},
   "outputs": [
    {
     "name": "stdout",
     "output_type": "stream",
     "text": [
      "\n",
      "++++++++++++++++++++++++++++++++++++++++++++++++++++++++++++++++++++++++++++++++\n",
      "network: Network\n",
      "++++++++++++++++++++++++++++++++++++++++++++++++++++++++++++++++++++++++++++++++\n",
      "\n",
      "- default vertex attributes\n",
      "\n",
      "x => 0.0\n",
      "y => 0.0\n",
      "z => 0.0\n",
      "\n",
      "- default edge attributes\n",
      "\n",
      "None\n",
      "\n",
      "- number of vertices: 32\n",
      "- number of edges: 40\n",
      "\n",
      "- vertex degree min: 1\n",
      "- vertex degree max: 4\n",
      "\n",
      "\n"
     ]
    }
   ],
   "source": [
    "network = Network.from_obj(compas.get('lines.obj'))\n",
    "print(network)"
   ]
  }
 ],
 "metadata": {
  "kernelspec": {
   "display_name": "Python 3",
   "language": "python",
   "name": "python3"
  },
  "language_info": {
   "codemirror_mode": {
    "name": "ipython",
    "version": 3
   },
   "file_extension": ".py",
   "mimetype": "text/x-python",
   "name": "python",
   "nbconvert_exporter": "python",
   "pygments_lexer": "ipython3",
   "version": "3.6.3"
  }
 },
 "nbformat": 4,
 "nbformat_minor": 2
}
