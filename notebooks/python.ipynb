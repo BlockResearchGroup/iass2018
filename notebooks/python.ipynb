{
 "cells": [
  {
   "cell_type": "markdown",
   "metadata": {},
   "source": [
    "# Python\n",
    "\n",
    "The COMPAS framework is written primarily in Python. Python 3 is fully supported and the code is backward compatible with Python +2.6.\n"
   ]
  },
  {
   "cell_type": "markdown",
   "metadata": {
    "collapsed": true
   },
   "source": [
    "## Built-in types and functions\n",
    "\n",
    "**Types**\n",
    "\n",
    "* https://docs.python.org/3/library/stdtypes.html\n",
    "\n",
    "|                       | Built-in types                     |                                          | \n",
    "|:--------------------- |:---------------------------------- |:---------------------------------------- | \n",
    "| numeric types         | `int`, `float`, `complex`          | `int(1)`, `float(1)`, `complex(1)`       |\n",
    "| sequence types        | `list`, `tuple`, `range`           | `[0, 1]`, `(0, 1)`, `range(2)`           |\n",
    "| text sequence types   | `str`                              | `'hello'`                                |\n",
    "| set types             | `set`, `frozenset`                 | `set([0, 1, 2])`, `frozenset([0, 1, 2])` |\n",
    "| mapping types         | `dict`                             | `dict(zero=0, one=1)`                    |\n",
    "\n",
    "**Functions**\n",
    "\n",
    "* https://docs.python.org/3/library/functions.html\n",
    "\n",
    "|                 |               | Built-in Functions |                |                  |\n",
    "|:--------------- |:------------- |:------------------ |:-------------- |:---------------- |\n",
    "| `abs()`         | `delattr()`   | `hash()`           | `memoryview()` | `set()`          |\n",
    "| `all()`         | `dict()`      | `help()`           | `min()`        | `setattr()`      |\n",
    "| `any()`         | `dir()`       | `hex()`            | `next()`       | `slice()`        |\n",
    "| `ascii()`       | `divmod()`    | `id()`             | `object()`     | `sorted()`       |\n",
    "| `bin()`         | `enumerate()` | `input()`          | `oct()`        | `staticmethod()` |\n",
    "| `bool()`        | `eval()`      | `int()`            | `open()`       | `str()`          |\n",
    "| `breakpoint()`  | `exec()`      | `isinstance()`     | `ord()`        | `sum()`          |\n",
    "| `bytearray()`   | `filter()`    | `issubclass()`     | `pow()`        | `super()`        |\n",
    "| `bytes()`       | `float()`     | `iter()`           | `print()`      | `tuple()`        |\n",
    "| `callable()`    | `format()`    | `len()`            | `property()`   | `type()`         |\n",
    "| `chr()`         | `frozenset()` | `list()`           | `range()`      | `vars()`         |\n",
    "| `classmethod()` | `getattr()`   | `locals()`         | `repr()`       | `zip()`          |\n",
    "| `compile()`     | `globals()`   | `map()`            | `reversed()`   | `__import__()`   |\n",
    "| `complex()`     | `hasattr()`   | `max()`            | `round()`      |                  |\n"
   ]
  },
  {
   "cell_type": "code",
   "execution_count": null,
   "metadata": {
    "collapsed": true
   },
   "outputs": [],
   "source": []
  },
  {
   "cell_type": "markdown",
   "metadata": {},
   "source": [
    "## Containers\n",
    "\n",
    "* https://docs.python.org/3.6/tutorial/datastructures.html\n",
    "* https://docs.python.org/3.6/library/collections.html\n",
    "* https://docs.python.org/3.6/library/collections.abc.html\n",
    "\n",
    "| type | example | description | operations |\n",
    "|:----- |:------ |:----------- |:---------- |\n",
    "| list  | `[1, 2, 3]` | Contains ordered, arbitrary objects | iterate, slide, index, modify |\n",
    "| tuple | `(1, 2, 3)` | Contains ordered, arbitrary objects, but cannot be changed. | iterate, index, slice |\n",
    "| set   | `set([1, 2, 3])` | Contains unordered, distinct, hashable objects. | iterate, modify |\n",
    "| dict  | `dict(one=1, two=2, three=3)` | Maps unordered, distinct, hashable objects to arbitrary objects. | iterate, modify |"
   ]
  },
  {
   "cell_type": "markdown",
   "metadata": {},
   "source": [
    "### List\n"
   ]
  },
  {
   "cell_type": "code",
   "execution_count": null,
   "metadata": {
    "collapsed": true
   },
   "outputs": [],
   "source": []
  },
  {
   "cell_type": "markdown",
   "metadata": {},
   "source": [
    "### List comprehension\n"
   ]
  },
  {
   "cell_type": "code",
   "execution_count": null,
   "metadata": {
    "collapsed": true
   },
   "outputs": [],
   "source": []
  },
  {
   "cell_type": "markdown",
   "metadata": {},
   "source": [
    "### Tuple\n"
   ]
  },
  {
   "cell_type": "code",
   "execution_count": null,
   "metadata": {
    "collapsed": true
   },
   "outputs": [],
   "source": []
  },
  {
   "cell_type": "markdown",
   "metadata": {},
   "source": [
    "### Set\n"
   ]
  },
  {
   "cell_type": "code",
   "execution_count": null,
   "metadata": {
    "collapsed": true
   },
   "outputs": [],
   "source": []
  },
  {
   "cell_type": "markdown",
   "metadata": {},
   "source": [
    "### Dictionary\n"
   ]
  },
  {
   "cell_type": "code",
   "execution_count": null,
   "metadata": {
    "collapsed": true
   },
   "outputs": [],
   "source": []
  },
  {
   "cell_type": "markdown",
   "metadata": {},
   "source": [
    "### Dict comprehension\n"
   ]
  },
  {
   "cell_type": "code",
   "execution_count": null,
   "metadata": {
    "collapsed": true
   },
   "outputs": [],
   "source": []
  },
  {
   "cell_type": "markdown",
   "metadata": {},
   "source": [
    "## Functions"
   ]
  },
  {
   "cell_type": "code",
   "execution_count": null,
   "metadata": {
    "collapsed": true
   },
   "outputs": [],
   "source": []
  },
  {
   "cell_type": "markdown",
   "metadata": {},
   "source": [
    "## Classes"
   ]
  },
  {
   "cell_type": "code",
   "execution_count": null,
   "metadata": {
    "collapsed": true
   },
   "outputs": [],
   "source": []
  },
  {
   "cell_type": "markdown",
   "metadata": {},
   "source": [
    "## Scripts, Modules, Packages"
   ]
  },
  {
   "cell_type": "code",
   "execution_count": null,
   "metadata": {
    "collapsed": true
   },
   "outputs": [],
   "source": []
  },
  {
   "cell_type": "markdown",
   "metadata": {},
   "source": [
    "## Links and Resources\n",
    "\n",
    "**Python official**\n",
    "\n",
    "* https://docs.python.org/3/library/stdtypes.html\n",
    "* https://docs.python.org/3/library/functions.html\n",
    "* https://docs.python.org/3/reference/datamodel.html\n",
    "* https://docs.python.org/3/library/datatypes.html\n",
    "* https://docs.python.org/3/library/collections.html\n",
    "* https://docs.python.org/3/library/collections.abc.html\n",
    "* https://docs.python.org/3/tutorial/datastructures.html\n",
    "\n",
    "**Python unofficial**\n",
    "\n",
    "* https://speed.python.org/\n",
    "* https://wiki.python.org/moin/PythonSpeed\n",
    "* https://realpython.com/\n",
    "* https://docs.python.org/3/howto/pyporting.html\n",
    "* \n",
    "\n",
    "**Other**\n",
    "\n",
    "* http://kunststube.net/encoding/\n",
    "* \n",
    "* \n"
   ]
  }
 ],
 "metadata": {
  "kernelspec": {
   "display_name": "Python 3",
   "language": "python",
   "name": "python3"
  },
  "language_info": {
   "codemirror_mode": {
    "name": "ipython",
    "version": 3
   },
   "file_extension": ".py",
   "mimetype": "text/x-python",
   "name": "python",
   "nbconvert_exporter": "python",
   "pygments_lexer": "ipython3",
   "version": "3.6.3"
  }
 },
 "nbformat": 4,
 "nbformat_minor": 2
}
